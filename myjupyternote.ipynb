{
 "cells": [
  {
   "cell_type": "code",
   "execution_count": 1,
   "id": "35b16916",
   "metadata": {},
   "outputs": [
    {
     "name": "stdout",
     "output_type": "stream",
     "text": [
      "Testing my jupyter notebook script\n"
     ]
    }
   ],
   "source": [
    "print('Testing my jupyter notebook script')"
   ]
  },
  {
   "cell_type": "code",
   "execution_count": 8,
   "id": "03ec93ab",
   "metadata": {},
   "outputs": [],
   "source": [
    "def show_greeting(user_name : str ) -> None:\n",
    "      print(user_name)"
   ]
  },
  {
   "cell_type": "code",
   "execution_count": 10,
   "id": "22a88b3e",
   "metadata": {},
   "outputs": [],
   "source": [
    "def add(a: int, b: int) -> int:\n",
    "    return a + b"
   ]
  },
  {
   "cell_type": "code",
   "execution_count": null,
   "id": "23f8c754",
   "metadata": {},
   "outputs": [],
   "source": [
    "from pathlib import Path\n",
    "\n",
    "def get_project_directory(folder_name: str) -> Path:\n",
    "    \"\"\"\n",
    "    Creates a new directory with the given folder name and returns the Path object.\n",
    "\n",
    "    Args:\n",
    "        folder_name (str): The name of the folder to create.\n",
    "\n",
    "    Returns:\n",
    "        Path: The Path object representing the created directory.\n",
    "    \"\"\"\n",
    "    project_path = Path(folder_name)\n",
    "    project_path.mkdir(parents=True, exist_ok=True)\n",
    "    return project_path"
   ]
  },
  {
   "cell_type": "code",
   "execution_count": 11,
   "id": "0006d84b",
   "metadata": {},
   "outputs": [
    {
     "name": "stdout",
     "output_type": "stream",
     "text": [
      "Sales are high, let's allocate more resources!\n"
     ]
    }
   ],
   "source": [
    "sales = 15000\n",
    "\n",
    "if sales > 10000:\n",
    "    print(\"Sales are high, let's allocate more resources!\")"
   ]
  },
  {
   "cell_type": "code",
   "execution_count": 6,
   "id": "1331ad40",
   "metadata": {},
   "outputs": [
    {
     "name": "stdout",
     "output_type": "stream",
     "text": [
      "Traffic is moderate, let's monitor closely.\n"
     ]
    }
   ],
   "source": [
    "traffic = 8000\n",
    "\n",
    "if traffic > 10000:\n",
    "    print(\"Traffic is high, let's prepare for increased load!\")\n",
    "elif traffic > 5000:\n",
    "    print(\"Traffic is moderate, let's monitor closely.\")"
   ]
  },
  {
   "cell_type": "code",
   "execution_count": 5,
   "id": "efe8e4fc",
   "metadata": {},
   "outputs": [
    {
     "name": "stdout",
     "output_type": "stream",
     "text": [
      "Traffic is low, consider running promotions.\n"
     ]
    }
   ],
   "source": [
    "traffic = 3000\n",
    "\n",
    "if traffic > 10000:\n",
    "    print(\"Traffic is high, let's prepare for increased load!\")\n",
    "elif traffic > 5000:\n",
    "    print(\"Traffic is moderate, let's monitor closely.\")\n",
    "else:\n",
    "    print(\"Traffic is low, consider running promotions.\")"
   ]
  },
  {
   "cell_type": "code",
   "execution_count": 12,
   "id": "d4fbbe39",
   "metadata": {},
   "outputs": [
    {
     "name": "stdout",
     "output_type": "stream",
     "text": [
      "Monthly sales: 12000\n",
      "Monthly sales: 15000\n",
      "Monthly sales: 18000\n",
      "Monthly sales: 13000\n",
      "Monthly sales: 17000\n"
     ]
    }
   ],
   "source": [
    "sales: list = [12000, 15000, 18000, 13000, 17000]\n",
    "\n",
    "for sale in sales:\n",
    "    print(f\"Monthly sales: {sale}\")"
   ]
  },
  {
   "cell_type": "code",
   "execution_count": 13,
   "id": "a36f397d",
   "metadata": {},
   "outputs": [
    {
     "name": "stdout",
     "output_type": "stream",
     "text": [
      "Monthly sales: 12000\n",
      "Monthly sales: 15000\n",
      "Monthly sales: 18000\n",
      "Monthly sales: 13000\n",
      "Monthly sales: 17000\n"
     ]
    }
   ],
   "source": [
    "sales: list = [12000, 15000, 18000, 13000, 17000]\n",
    "\n",
    "for s in sales:\n",
    "    print(f\"Monthly sales: {s}\")"
   ]
  },
  {
   "cell_type": "code",
   "execution_count": null,
   "id": "a953d032",
   "metadata": {},
   "outputs": [],
   "source": [
    "\n",
    "\n",
    " \n",
    "\n",
    "# Three Implementations\n",
    " \n",
    "\n",
    "from pathlib import Path\n",
    "\n",
    " \n",
    "\n",
    "def create_annual_data_directories(directory_name: str, start_year: int, end_year: int) -> None:\n",
    "\n",
    "   # Option 1 - using for in\n",
    "\n",
    "\n",
    "    years = list(range(start_year, end_year + 1))\n",
    "    \n",
    "    for year in years:\n",
    "        folder_name = f\"{directory_name}/{year}\"\n",
    "        Path(folder_name).mkdir(parents=True, exist_ok=True)\n",
    "        print(f\"Created directory: {folder_name}\")\n",
    "\n",
    "   \n",
    "\n",
    "    # Option 2 - using for in range\n",
    "\n",
    "    for year in range(start_year, end_year + 1):\n",
    "        folder_name = f\"{directory_name}/{year}\"\n",
    "        Path(folder_name).mkdir(parents=True, exist_ok=True)\n",
    "        print(f\"Created directory: {folder_name}\")\n",
    "\n",
    " \n",
    "\n",
    "    # Option 3 - using while\n",
    "\n",
    "    year = start_year\n",
    "    while year <= end_year:\n",
    "        folder_name = f\"{directory_name}/{year}\"\n",
    "        Path(folder_name).mkdir(parents=True, exist_ok=True)\n",
    "        print(f\"Created directory: {folder_name}\")\n",
    "        year += 1\n",
    "\n",
    " \n",
    "\n",
    "# Example usage:\n",
    "create_annual_data_directories(\"data\", 2021, 2024)"
   ]
  },
  {
   "cell_type": "code",
   "execution_count": 14,
   "id": "d60e7ad7",
   "metadata": {},
   "outputs": [
    {
     "name": "stdout",
     "output_type": "stream",
     "text": [
      "Folder 'folder_1' created.\n",
      "Folder 'folder_2' created.\n",
      "Folder 'folder_3' created.\n",
      "Folder 'folder_4' created.\n"
     ]
    }
   ],
   "source": [
    "from pathlib import Path\n",
    "\n",
    "for i in range(1, 5):\n",
    "    folder_name = f\"folder_{i}\"\n",
    "    Path(folder_name).mkdir(exist_ok=True)\n",
    "    print(f\"Folder '{folder_name}' created.\")"
   ]
  },
  {
   "cell_type": "code",
   "execution_count": 15,
   "id": "20eea81f",
   "metadata": {},
   "outputs": [
    {
     "name": "stdout",
     "output_type": "stream",
     "text": [
      "Found a sale above the threshold: 3000\n"
     ]
    }
   ],
   "source": [
    "sales = [200, 1500, 3000, 100, 5000]\n",
    "\n",
    "for sale in sales:\n",
    "    if sale > 2500:\n",
    "        print(f\"Found a sale above the threshold: {sale}\")\n",
    "        break  # Exit the loop as soon as we find the first sale above 2500"
   ]
  },
  {
   "cell_type": "code",
   "execution_count": 16,
   "id": "a7671379",
   "metadata": {},
   "outputs": [
    {
     "name": "stdout",
     "output_type": "stream",
     "text": [
      "Found a sale above the threshold: 5000\n"
     ]
    }
   ],
   "source": [
    "sales = [200, 1500, 3000, 100, 5000]\n",
    "\n",
    "for sale in sales:\n",
    "    if sale > 4000:\n",
    "        print(f\"Found a sale above the threshold: {sale}\")\n",
    "        break"
   ]
  },
  {
   "cell_type": "code",
   "execution_count": 17,
   "id": "144d86e3",
   "metadata": {},
   "outputs": [
    {
     "name": "stdout",
     "output_type": "stream",
     "text": [
      "Processing significant sale: 1500\n",
      "Processing significant sale: 3000\n",
      "Processing significant sale: 5000\n"
     ]
    }
   ],
   "source": [
    "sales = [200, 1500, 3000, 100, 5000]\n",
    "\n",
    "for sale in sales:\n",
    "    if sale < 1000:\n",
    "        continue  # Skip sales that are less than 1000\n",
    "    print(f\"Processing significant sale: {sale}\")"
   ]
  },
  {
   "cell_type": "code",
   "execution_count": 18,
   "id": "8b558f2d",
   "metadata": {},
   "outputs": [
    {
     "name": "stdout",
     "output_type": "stream",
     "text": [
      "Processing significant sale: 1500\n",
      "Processing significant sale: 3000\n",
      "Processing significant sale: 5000\n"
     ]
    }
   ],
   "source": [
    "sales = [200, 1500, 3000, 100, 5000]\n",
    "\n",
    "for sale in sales:\n",
    "    if sale < 1000:\n",
    "        continue\n",
    "    print(f\"Processing significant sale: {sale}\")"
   ]
  },
  {
   "cell_type": "code",
   "execution_count": 19,
   "id": "71075578",
   "metadata": {},
   "outputs": [
    {
     "name": "stdout",
     "output_type": "stream",
     "text": [
      "Generating report for New York in 2018\n",
      "Generating report for New York in 2019\n",
      "Generating report for New York in 2020\n",
      "Generating report for New York in 2021\n",
      "Generating report for Los Angeles in 2018\n",
      "Generating report for Los Angeles in 2019\n",
      "Generating report for Los Angeles in 2020\n",
      "Generating report for Los Angeles in 2021\n",
      "Generating report for Chicago in 2018\n",
      "Generating report for Chicago in 2019\n",
      "Generating report for Chicago in 2020\n",
      "Generating report for Chicago in 2021\n"
     ]
    }
   ],
   "source": [
    "cities = ['New York', 'Los Angeles', 'Chicago']\n",
    "years = [2018, 2019, 2020, 2021]\n",
    "\n",
    "for city in cities:\n",
    "    for year in years:\n",
    "        print(f\"Generating report for {city} in {year}\")"
   ]
  },
  {
   "cell_type": "code",
   "execution_count": null,
   "id": "c588c8b5",
   "metadata": {},
   "outputs": [],
   "source": [
    "import os\n",
    "import time\n",
    "\n",
    "folder_to_monitor = \"live_data\"\n",
    "\n",
    "while True:\n",
    "    if 'sales_data.csv' in os.listdir(folder_to_monitor):\n",
    "        print(\"File arrived. Starting analysis.\")\n",
    "        break  # Stop the loop once the file is found\n",
    "    else:\n",
    "        print(\"File not yet arrived. Checking again in 10 seconds.\")\n",
    "        time.sleep(10)  # Wait 10 seconds before checking again"
   ]
  },
  {
   "cell_type": "code",
   "execution_count": null,
   "id": "410dcbb0",
   "metadata": {},
   "outputs": [],
   "source": [
    "\"\"\" Define Three Parameters\n",
    "We have options for how we define and default our inputs. Python allows us to simply provide the parameter name, separated by commas - or we would be better and use type hints. We can also provide defaults. \n",
    "\"\"\"\n",
    "# Option 1 - Simple - Three Parameters\n",
    "\n",
    "def create_annual_data_directories(directory_name, start_year, end_year):\n",
    "\n",
    "# Option 2 - Add Type Hints \n",
    "\n",
    "def create_annual_data_directories(directory_name:str, start_year:int, end_year:int) -> None:\n",
    "\n",
    "# Option 3 - Add Default Values \n",
    "\n",
    "def create_annual_data_directories(directory_name='data', start_year= 2000, end_year=2024) -> None: \n",
    "\n",
    "\"\"\" We're providing values not type hints, so be sure to use equals (=) to set the values, not a colon. \n",
    "Option 4 - Add Type Hints and Default Values \n",
    "We can combine type hints and defaults as needed. We can default none, some, or all of our parameters. \n",
    "\"\"\"\n",
    "\n",
    "def create_annual_data_directories(directory_name: str = 'data', start_year: int = 2000, end_year: int = 2024) -> None: "
   ]
  },
  {
   "cell_type": "code",
   "execution_count": null,
   "id": "13d92bab",
   "metadata": {},
   "outputs": [],
   "source": [
    "import pathlib\n",
    "\n",
    "project_root = pathlib.Path('my_project')\n",
    "data_dir = project_root.joinpath('data')\n",
    "reports_dir = project_root.joinpath('reports')\n",
    "logs_dir = project_root.joinpath('logs')\n",
    "\n",
    "data_dir.mkdir(parents=True, exist_ok=True)\n",
    "reports_dir.mkdir(parents=True, exist_ok=True)\n",
    "logs_dir.mkdir(parents=True, exist_ok=True)"
   ]
  },
  {
   "cell_type": "code",
   "execution_count": null,
   "id": "ad40ea0c",
   "metadata": {},
   "outputs": [],
   "source": [
    "from datetime import datetime  # Importing just the datetime class\n",
    "from pathlib import Path  # Importing just the Path class\n",
    "\n",
    "# Get today's date as a string in the format 'YYYY-MM-DD'\n",
    "today = datetime.now().strftime('%Y-%m-%d')\n",
    "\n",
    "# Use joinpath to create a path to the folder named with today's date\n",
    "daily_folder = Path('data').joinpath(today)\n",
    "\n",
    "# Create the folder if it doesn't already exist\n",
    "daily_folder.mkdir(parents=True, exist_ok=True)"
   ]
  },
  {
   "cell_type": "code",
   "execution_count": 21,
   "id": "826c8f25",
   "metadata": {},
   "outputs": [
    {
     "name": "stdout",
     "output_type": "stream",
     "text": [
      "Starting task...\n",
      "Task completed after a 10-second delay.\n"
     ]
    }
   ],
   "source": [
    "import time\n",
    "\n",
    "print(\"Starting task...\")\n",
    "time.sleep(10)  # Pauses the program for 10 seconds\n",
    "print(\"Task completed after a 10-second delay.\")"
   ]
  },
  {
   "cell_type": "code",
   "execution_count": null,
   "id": "f446b597",
   "metadata": {},
   "outputs": [],
   "source": [
    "import seaborn as sns\n",
    "\n",
    "import pandas as pd\n",
    "\n",
    "import scipy as sp\n",
    "\n",
    "import statsmodels as sm\n",
    "\n",
    "import numpy as np\n",
    "\n",
    "import matplotlib.pyplot as plt\n",
    "\n",
    "import sklearn as sk\n",
    "\n",
    "import tensorflow as tf"
   ]
  },
  {
   "cell_type": "code",
   "execution_count": 22,
   "id": "2f70d9c9",
   "metadata": {},
   "outputs": [],
   "source": [
    "from math import sqrt"
   ]
  },
  {
   "cell_type": "markdown",
   "id": "ac5ae8db",
   "metadata": {},
   "source": [
    "namespaces: Together, these scopes follow Python’s LEGB rule: Local > Enclosing > Global > Built-in. namespace is a container that maps names to object, like variable and functions. A scope determines where a name can be accessed in your code. Understanding these helps us avoid bugs and write clean, modular programs."
   ]
  },
  {
   "cell_type": "code",
   "execution_count": 25,
   "id": "5d869d4e",
   "metadata": {},
   "outputs": [
    {
     "name": "stdout",
     "output_type": "stream",
     "text": [
      "5\n",
      "10\n"
     ]
    }
   ],
   "source": [
    "x = 10  # global scope\n",
    "\n",
    "def show():\n",
    "    x = 5  # local scope\n",
    "    print(x)\n",
    "\n",
    "show()       # prints 5\n",
    "print(x)     # prints 10"
   ]
  },
  {
   "cell_type": "code",
   "execution_count": 26,
   "id": "39ce79eb",
   "metadata": {},
   "outputs": [
    {
     "name": "stdout",
     "output_type": "stream",
     "text": [
      "5\n"
     ]
    }
   ],
   "source": [
    "count = 5\n",
    "\n",
    "def update_count():\n",
    "    count = 10\n",
    "\n",
    "update_count()\n",
    "print(count)"
   ]
  },
  {
   "cell_type": "code",
   "execution_count": 27,
   "id": "c7eb9200",
   "metadata": {},
   "outputs": [
    {
     "data": {
      "image/png": "[encoded data removed]",
      "text/plain": [
       "<Figure size 640x480 with 1 Axes>"
      ]
     },
     "metadata": {},
     "output_type": "display_data"
    },
    {
     "ename": "NameError",
     "evalue": "name 'title' is not defined",
     "output_type": "error",
     "traceback": [
      "\u001b[31m---------------------------------------------------------------------------\u001b[39m",
      "\u001b[31mNameError\u001b[39m                                 Traceback (most recent call last)",
      "\u001b[36mCell\u001b[39m\u001b[36m \u001b[39m\u001b[32mIn[27]\u001b[39m\u001b[32m, line 11\u001b[39m\n\u001b[32m      8\u001b[39m     plt.show()\n\u001b[32m     10\u001b[39m plot_data([\u001b[32m1\u001b[39m, \u001b[32m2\u001b[39m, \u001b[32m3\u001b[39m], [\u001b[32m1\u001b[39m, \u001b[32m4\u001b[39m, \u001b[32m9\u001b[39m])\n\u001b[32m---> \u001b[39m\u001b[32m11\u001b[39m \u001b[38;5;28mprint\u001b[39m(\u001b[43mtitle\u001b[49m)\n",
      "\u001b[31mNameError\u001b[39m: name 'title' is not defined"
     ]
    }
   ],
   "source": [
    "import matplotlib.pyplot as plt\n",
    "\n",
    "def plot_data(x, y):\n",
    "    plt.figure()\n",
    "    plt.plot(x, y)\n",
    "    title = \"Data Visualization\"\n",
    "    plt.title(title)\n",
    "    plt.show()\n",
    "\n",
    "plot_data([1, 2, 3], [1, 4, 9])\n",
    "print(title)"
   ]
  },
  {
   "cell_type": "markdown",
   "id": "a7d9420a",
   "metadata": {},
   "source": [
    "CHAPTER 3 & 4 EXERCISES"
   ]
  },
  {
   "cell_type": "code",
   "execution_count": 12,
   "id": "399e9407",
   "metadata": {},
   "outputs": [
    {
     "name": "stdout",
     "output_type": "stream",
     "text": [
      "Student's grade: A\n"
     ]
    }
   ],
   "source": [
    "def student_grade():\n",
    "    grade = int(input(\"Enter the grade: \"))\n",
    "    if grade < 0 or grade > 100:\n",
    "        return \"Invalid grade. Please enter a number between 0 and 100.\"\n",
    "    if grade >= 90:\n",
    "        return \"A\"\n",
    "    elif grade >= 80:\n",
    "        return \"B\"\n",
    "    elif grade >= 70:\n",
    "        return \"C\"\n",
    "    elif grade >= 60:\n",
    "        return \"D\"\n",
    "    else:\n",
    "        return \"F\"\n",
    "return_value = student_grade()\n",
    "print(f\"Student's grade: {return_value}\")"
   ]
  },
  {
   "cell_type": "code",
   "execution_count": 13,
   "id": "8c6d9cbe",
   "metadata": {},
   "outputs": [
    {
     "name": "stdout",
     "output_type": "stream",
     "text": [
      "Failed\n"
     ]
    }
   ],
   "source": [
    "grade = 89\n",
    "\n",
    "if grade >= 90:\n",
    "    print('Passed')\n",
    "else:\n",
    "    print('Failed')"
   ]
  },
  {
   "cell_type": "code",
   "execution_count": 14,
   "id": "9c8bcf3f",
   "metadata": {},
   "outputs": [
    {
     "name": "stdout",
     "output_type": "stream",
     "text": [
      "Passed\n"
     ]
    }
   ],
   "source": [
    "grade = 99\n",
    "\n",
    "if grade >= 90:\n",
    "    print('Passed')\n",
    "else:\n",
    "    print('Failed')"
   ]
  },
  {
   "cell_type": "code",
   "execution_count": 17,
   "id": "abef2755",
   "metadata": {},
   "outputs": [
    {
     "name": "stdout",
     "output_type": "stream",
     "text": [
      "Result: Passed\n"
     ]
    }
   ],
   "source": [
    "grade: int = 99\n",
    "\n",
    "if grade >= 90:\n",
    "    result = 'Passed'\n",
    "else:\n",
    "    result = 'Failed'\n",
    "\n",
    "result = 'Passed' if grade >= 90 else 'Failed'\n",
    "print(f\"Result: {result}\")"
   ]
  },
  {
   "cell_type": "code",
   "execution_count": 19,
   "id": "2da6d35d",
   "metadata": {},
   "outputs": [
    {
     "name": "stdout",
     "output_type": "stream",
     "text": [
      "Result: Failed\n"
     ]
    }
   ],
   "source": [
    "grade: int = 90\n",
    "\n",
    "if grade >= 98:\n",
    "    result = 'Passed'\n",
    "else:\n",
    "    result = 'Failed'\n",
    "\n",
    "result = 'Passed' if grade >= 98 else 'Failed'\n",
    "print(f\"Result: {result}\")"
   ]
  },
  {
   "cell_type": "code",
   "execution_count": 31,
   "id": "33995b98",
   "metadata": {},
   "outputs": [
    {
     "name": "stdout",
     "output_type": "stream",
     "text": [
      "Failed!\n",
      "You must take this course again.\n"
     ]
    }
   ],
   "source": [
    "grade = 49\n",
    "\n",
    "if grade >= 60:\n",
    "    print('Passed!')\n",
    "else:\n",
    "    print(\"Failed!\\nYou must take this course again.\")\n",
    "    # print('Failed!')\n",
    "    # print('You must take this course again.')\n"
   ]
  },
  {
   "cell_type": "code",
   "execution_count": 33,
   "id": "cdbc9b7d",
   "metadata": {},
   "outputs": [
    {
     "name": "stdout",
     "output_type": "stream",
     "text": [
      "Passed!\n",
      "You passed the course.\n"
     ]
    }
   ],
   "source": [
    "grade = 80\n",
    "\n",
    "if grade >= 60:\n",
    "    # print('Passed!')\n",
    "    print(\"Passed!\\nYou passed the course.\")\n",
    "else:\n",
    "    print(\"Failed!\\nYou must take this course again.\")\n",
    "    # print('Failed')\n",
    "    # print('You must take this course again.')\n",
    "# print('You passed the course.')"
   ]
  },
  {
   "cell_type": "code",
   "execution_count": null,
   "id": "c52c3699",
   "metadata": {},
   "outputs": [
    {
     "name": "stdout",
     "output_type": "stream",
     "text": [
      "Student's grade: F\n"
     ]
    }
   ],
   "source": [
    "#def student_grade():\n",
    "    grade: int = (55, 72, 85, 90, 100, 90, 80, 70, 60, 50)\n",
    "    for grade in grade:\n",
    "        if grade < 0 or grade > 100:\n",
    "            return \"Invalid grade. Please enter a number between 0 and 100.\"\n",
    "        if grade >= 90:\n",
    "            return \"A\"\n",
    "        elif grade >= 80:\n",
    "            return \"B\"\n",
    "        elif grade >= 70:\n",
    "            return \"C\"\n",
    "        elif grade >= 60:\n",
    "            return \"D\"\n",
    "        else:\n",
    "            return \"F\"\n",
    "#return_value = student_grade()\n",
    "#print(f\"Student's grade: {return_value}\")"
   ]
  },
  {
   "cell_type": "code",
   "execution_count": null,
   "id": "01f8c45e",
   "metadata": {},
   "outputs": [
    {
     "name": "stdout",
     "output_type": "stream",
     "text": [
      "F\n",
      "C\n",
      "B\n",
      "A\n",
      "A\n",
      "A\n",
      "B\n",
      "C\n",
      "D\n",
      "F\n"
     ]
    }
   ],
   "source": [
    "grades = (55, 72, 85, 90, 100, 90, 80, 70, 60, 50)\n",
    "for grade in grade:\n",
    "    if grade < 0 or grade > 100:\n",
    "        print(\"Invalid grade. Please enter a number between 0 and 100.\")\n",
    "    if grade >= 90:\n",
    "        print(\"A\")\n",
    "    elif grade >= 80:\n",
    "        print(\"B\")\n",
    "    elif grade >= 70:\n",
    "        print(\"C\")\n",
    "    elif grade >= 60:\n",
    "        print(\"D\")\n",
    "    else:\n",
    "        print(\"F\")"
   ]
  },
  {
   "cell_type": "code",
   "execution_count": 40,
   "id": "20e9b738",
   "metadata": {},
   "outputs": [
    {
     "name": "stdout",
     "output_type": "stream",
     "text": [
      "81\n"
     ]
    }
   ],
   "source": [
    "product = 3\n",
    "\n",
    "while product <= 50:\n",
    "    product *= 3\n",
    "    \n",
    "print(product)"
   ]
  },
  {
   "cell_type": "code",
   "execution_count": 44,
   "id": "fc7eb1bc",
   "metadata": {},
   "outputs": [
    {
     "name": "stdout",
     "output_type": "stream",
     "text": [
      "9\n",
      "27\n",
      "81\n"
     ]
    },
    {
     "data": {
      "text/plain": [
       "' Python was testing the condition, until the final product value was greater than 50, which is 81.\\n81 happens to be the first power of 3 that is greater than 50.'"
      ]
     },
     "execution_count": 44,
     "metadata": {},
     "output_type": "execute_result"
    }
   ],
   "source": [
    "product = 3\n",
    "\n",
    "while product <= 50:\n",
    "    product *= 3\n",
    "    \n",
    "    print(product)\n",
    "\n",
    "\"\"\" Python was testing the condition, until the final product value was greater than 50, which is 81.\n",
    "81 happens to be the first power of 3 that is greater than 50.\"\"\""
   ]
  },
  {
   "cell_type": "code",
   "execution_count": 45,
   "id": "d39aa4d2",
   "metadata": {},
   "outputs": [
    {
     "data": {
      "text/plain": [
       "81"
      ]
     },
     "execution_count": 45,
     "metadata": {},
     "output_type": "execute_result"
    }
   ],
   "source": [
    "product = 3\n",
    "\n",
    "while product <= 50:\n",
    "    product *= 3\n",
    "    \n",
    "product"
   ]
  },
  {
   "cell_type": "code",
   "execution_count": 47,
   "id": "2decec8b",
   "metadata": {},
   "outputs": [
    {
     "name": "stdout",
     "output_type": "stream",
     "text": [
      "49\n",
      "343\n",
      "2401\n"
     ]
    }
   ],
   "source": [
    "# Write a statements to determine the first power of 7 greater than 1000.\n",
    "\n",
    "product = 7\n",
    "\n",
    "while product <= 1000:\n",
    "    product *= 7\n",
    "    \n",
    "    print(product)"
   ]
  },
  {
   "cell_type": "code",
   "execution_count": 57,
   "id": "e3d1057f",
   "metadata": {},
   "outputs": [
    {
     "name": "stdout",
     "output_type": "stream",
     "text": [
      "1 2 3 4 5 "
     ]
    }
   ],
   "source": [
    "numbers = input(\"Enter a 5 digit number: \")\n",
    "for number in numbers:\n",
    "    print(number, end=\" \")\n",
    "#print()"
   ]
  },
  {
   "cell_type": "code",
   "execution_count": 58,
   "id": "38ec6b98",
   "metadata": {},
   "outputs": [
    {
     "name": "stdout",
     "output_type": "stream",
     "text": [
      "5, 6, 7, 8, 9, "
     ]
    }
   ],
   "source": [
    "numbers = input(\"Enter a 5 digit number: \")\n",
    "for number in numbers:\n",
    "    print(number, end=\", \")\n",
    "#print()"
   ]
  },
  {
   "cell_type": "code",
   "execution_count": 59,
   "id": "7598d2b0",
   "metadata": {},
   "outputs": [
    {
     "name": "stdout",
     "output_type": "stream",
     "text": [
      "1\n",
      "2\n",
      "3\n",
      "6\n",
      "5\n",
      "\n"
     ]
    }
   ],
   "source": [
    "numbers = input(\"Enter a 5 digit number: \")\n",
    "for number in numbers:\n",
    "    print(number, sep=', ') # sep stands for separator\n",
    "\n",
    "print()"
   ]
  },
  {
   "cell_type": "markdown",
   "id": "7246f37f",
   "metadata": {},
   "source": [
    "ITERABLES, LISTS AND ITERATORS"
   ]
  },
  {
   "cell_type": "code",
   "execution_count": 61,
   "id": "6095fde4",
   "metadata": {},
   "outputs": [
    {
     "data": {
      "text/plain": [
       "25"
      ]
     },
     "execution_count": 61,
     "metadata": {},
     "output_type": "execute_result"
    }
   ],
   "source": [
    "total = 0\n",
    "for num in [2, -3, 0, 17, 9]:\n",
    "    total += num # same as total = total + num\n",
    "\n",
    "total"
   ]
  },
  {
   "cell_type": "code",
   "execution_count": 62,
   "id": "0c281969",
   "metadata": {},
   "outputs": [
    {
     "name": "stdout",
     "output_type": "stream",
     "text": [
      "1, 2, 3, 4, 5, 6, 7, 8, 9, "
     ]
    }
   ],
   "source": [
    "for counter in range(1, 10):\n",
    "    print(counter, end=\", \")"
   ]
  },
  {
   "cell_type": "code",
   "execution_count": 63,
   "id": "2b6a2029",
   "metadata": {},
   "outputs": [
    {
     "name": "stdout",
     "output_type": "stream",
     "text": [
      "0, 1, 2, 3, 4, 5, 6, 7, 8, 9, "
     ]
    }
   ],
   "source": [
    "for counter in range(10):\n",
    "    print(counter, end=\", \")"
   ]
  },
  {
   "cell_type": "code",
   "execution_count": 66,
   "id": "7a258133",
   "metadata": {},
   "outputs": [
    {
     "data": {
      "text/plain": [
       "500000500000"
      ]
     },
     "execution_count": 66,
     "metadata": {},
     "output_type": "execute_result"
    }
   ],
   "source": [
    "total = 0\n",
    "for i in range(1000001):\n",
    "    total += i\n",
    "\n",
    "total"
   ]
  },
  {
   "cell_type": "markdown",
   "id": "8a423e8e",
   "metadata": {},
   "source": [
    "AUGMENTED ASSIGNMENTS"
   ]
  },
  {
   "cell_type": "code",
   "execution_count": 67,
   "id": "8c54c93b",
   "metadata": {},
   "outputs": [
    {
     "data": {
      "text/plain": [
       "15"
      ]
     },
     "execution_count": 67,
     "metadata": {},
     "output_type": "execute_result"
    }
   ],
   "source": [
    "# this is the same as\n",
    "total = 0\n",
    "\n",
    "# for number in [1, 2, 3, 4, 5]:\n",
    "    # total = total + number \n",
    "\n",
    "    # as below\n",
    "\n",
    "for number in [1, 2, 3, 4, 5]:\n",
    "    total += number # adding the numbers to total\n",
    "total"
   ]
  },
  {
   "cell_type": "code",
   "execution_count": 68,
   "id": "09db634a",
   "metadata": {},
   "outputs": [
    {
     "data": {
      "text/plain": [
       "144"
      ]
     },
     "execution_count": 68,
     "metadata": {},
     "output_type": "execute_result"
    }
   ],
   "source": [
    "x = 12\n",
    "\n",
    "x **= 2\n",
    "\n",
    "x"
   ]
  },
  {
   "cell_type": "code",
   "execution_count": 78,
   "id": "4dc3e1d2",
   "metadata": {},
   "outputs": [
    {
     "name": "stdout",
     "output_type": "stream",
     "text": [
      "Class average is: 81.7\n"
     ]
    }
   ],
   "source": [
    "# Initalization phase\n",
    "def show_class_average():\n",
    "    total = 0\n",
    "    counter = 0\n",
    "    grades = [98, 76, 71, 87, 83, 90, 57, 79, 82, 94]\n",
    "\n",
    "# Iteration/Processing phase\n",
    "    for grade in grades:\n",
    "        total += grade\n",
    "        counter += 1\n",
    "\n",
    "# Finalization/Termination phase\n",
    "    average = total / counter\n",
    "    print(f\"Class average is: {average}\")\n",
    "    \n",
    "show_class_average()"
   ]
  },
  {
   "cell_type": "markdown",
   "id": "967fa2c4",
   "metadata": {},
   "source": [
    "Many of the scripts you'll write can be decomposed into three phases: INITIALIZATION, PROCESSING AND TERMINATION!"
   ]
  },
  {
   "cell_type": "code",
   "execution_count": 80,
   "id": "25854fdd",
   "metadata": {},
   "outputs": [
    {
     "name": "stdout",
     "output_type": "stream",
     "text": [
      "7 times 5 is: 35\n"
     ]
    }
   ],
   "source": [
    "number1 = 7\n",
    "number2 = 5\n",
    "\n",
    "print(f\"{number1} times {number2} is: {number1 * number2}\")"
   ]
  },
  {
   "cell_type": "code",
   "execution_count": 88,
   "id": "aeb3deea",
   "metadata": {},
   "outputs": [
    {
     "name": "stdout",
     "output_type": "stream",
     "text": [
      "Class average is: 85.66666666666667\n"
     ]
    }
   ],
   "source": [
    "# Implementing Sentinel-Controlled Iteration\n",
    "\n",
    "\"\"\" Class average program with Sentinel-Controlled Iteration \"\"\"\n",
    "\n",
    "# Initalization phase\n",
    "def show_class_average():\n",
    "    total = 0 # sum of grades\n",
    "    counter = 0 # number of grades entered\n",
    "\n",
    "# Iteration/Processing phase\n",
    "    grade = int(input(\"Enter a grade (-1 to end): \")) # get one grade\n",
    "    while grade != -1:\n",
    "        total += grade\n",
    "        counter += 1\n",
    "        grade = int(input(\"Enter a grade (-1 to end): \"))\n",
    "\n",
    "# Finalization/Termination phase\n",
    "    if counter != 0:\n",
    "        average = total / counter\n",
    "        print(f\"Class average is: {average}\")\n",
    "    else:\n",
    "        print(\"No grades were entered.\")\n",
    "\n",
    "show_class_average()"
   ]
  },
  {
   "cell_type": "code",
   "execution_count": 90,
   "id": "94f8ea18",
   "metadata": {},
   "outputs": [
    {
     "name": "stdout",
     "output_type": "stream",
     "text": [
      "Class average is: 85.67\n"
     ]
    }
   ],
   "source": [
    "# Implementing Sentinel-Controlled Iteration\n",
    "\n",
    "\"\"\" Class average program with Sentinel-Controlled Iteration \"\"\"\n",
    "\n",
    "# Initalization phase\n",
    "def show_class_average():\n",
    "    total = 0 # sum of grades\n",
    "    counter = 0 # number of grades entered\n",
    "\n",
    "# Iteration/Processing phase\n",
    "    grade = int(input(\"Enter a grade (-1 to end): \")) # get one grade\n",
    "    while grade != -1:\n",
    "        total += grade\n",
    "        counter += 1\n",
    "        grade = int(input(\"Enter a grade (-1 to end): \"))\n",
    "\n",
    "# Finalization/Termination phase\n",
    "    if counter != 0:\n",
    "        average = total / counter\n",
    "        print(f\"Class average is: {average:.2f}\") # format to 2 decimal places\n",
    "    else:\n",
    "        print(\"No grades were entered.\")\n",
    "\n",
    "show_class_average()"
   ]
  },
  {
   "cell_type": "code",
   "execution_count": 89,
   "id": "21b301dc",
   "metadata": {},
   "outputs": [
    {
     "name": "stdout",
     "output_type": "stream",
     "text": [
      "No grades were entered.\n"
     ]
    }
   ],
   "source": [
    "# Implementing Sentinel-Controlled Iteration\n",
    "\n",
    "\"\"\" Class average program with Sentinel-Controlled Iteration \"\"\"\n",
    "\n",
    "# Initalization phase\n",
    "def show_class_average():\n",
    "    total = 0 # sum of grades\n",
    "    counter = 0 # number of grades entered\n",
    "\n",
    "# Iteration/Processing phase\n",
    "    grade = int(input(\"Enter a grade (-1 to end): \")) # get one grade\n",
    "    while grade != -1:\n",
    "        total += grade\n",
    "        counter += 1\n",
    "        grade = int(input(\"Enter a grade (-1 to end): \"))\n",
    "\n",
    "# Finalization/Termination phase\n",
    "    if counter != 0:\n",
    "        average = total / counter\n",
    "        print(f\"Class average is: {average}\")\n",
    "    else:\n",
    "        print(\"No grades were entered.\")\n",
    "\n",
    "show_class_average()"
   ]
  },
  {
   "cell_type": "markdown",
   "id": "7ba36208",
   "metadata": {},
   "source": [
    "NESTED CONTROL STATEMENT"
   ]
  },
  {
   "cell_type": "code",
   "execution_count": 4,
   "id": "4409f52b",
   "metadata": {},
   "outputs": [
    {
     "name": "stdout",
     "output_type": "stream",
     "text": [
      "Passed: 9\n",
      "Failed: 1\n",
      "Bonus to instructor!\n"
     ]
    }
   ],
   "source": [
    "# Using the nested control statement to analyze examination results!\n",
    "\n",
    "# Initalization phase/variables\n",
    "passes = 0 # number of passes\n",
    "failures = 0 # number of failures\n",
    "\n",
    "# Process 10 students\n",
    "for student in range(10):\n",
    "    # Get the result for each student\n",
    "    result = int(input(\"Enter result (1 = pass, 2 = fail): \"))\n",
    "    if result == 1:\n",
    "        passes += 1\n",
    "    else:\n",
    "        failures += 1\n",
    "\n",
    "# Termination phase\n",
    "print(f\"Passed: {passes}\")\n",
    "print(f\"Failed: {failures}\")\n",
    "\n",
    "# Determine if more than 8 students passed\n",
    "if passes > 8:\n",
    "    print(\"Bonus to instructor!\")"
   ]
  },
  {
   "cell_type": "code",
   "execution_count": 8,
   "id": "154a6611",
   "metadata": {},
   "outputs": [
    {
     "name": "stdout",
     "output_type": "stream",
     "text": [
      "10 is even.\n",
      "7 is odd.\n"
     ]
    }
   ],
   "source": [
    "number = 0\n",
    "for number in range(2):\n",
    "    number = int(input(\"Enter a number: \"))\n",
    "    if number % 2 == 0:\n",
    "        print(f\"{number} is even.\")\n",
    "    else:\n",
    "        print(f\"{number} is odd.\")"
   ]
  },
  {
   "cell_type": "code",
   "execution_count": 9,
   "id": "a296cbcb",
   "metadata": {},
   "outputs": [
    {
     "name": "stdout",
     "output_type": "stream",
     "text": [
      "0, 1, 2, 3, 4, "
     ]
    }
   ],
   "source": [
    "# Range in one argument\n",
    "for number in range(5):\n",
    "    print(number, end=\", \")"
   ]
  },
  {
   "cell_type": "code",
   "execution_count": 10,
   "id": "d74c54a8",
   "metadata": {},
   "outputs": [
    {
     "name": "stdout",
     "output_type": "stream",
     "text": [
      "1, 2, 3, 4, "
     ]
    }
   ],
   "source": [
    "# Range in two arguments\n",
    "for number in range(1, 5):\n",
    "    print(number, end=\", \")"
   ]
  },
  {
   "cell_type": "code",
   "execution_count": 12,
   "id": "092f0d14",
   "metadata": {},
   "outputs": [
    {
     "name": "stdout",
     "output_type": "stream",
     "text": [
      "1, 3, 5, 7, 9, "
     ]
    }
   ],
   "source": [
    "# Range in three arguments\n",
    "for number in range(1, 10, 2):\n",
    "    print(number, end=\", \")"
   ]
  },
  {
   "cell_type": "code",
   "execution_count": 14,
   "id": "1ed31850",
   "metadata": {},
   "outputs": [
    {
     "name": "stdout",
     "output_type": "stream",
     "text": [
      "10, 8, 6, 4, 2, "
     ]
    }
   ],
   "source": [
    "# Range in three arguments\n",
    "for number in range(10, 0, -2):\n",
    "    print(number, end=\", \")"
   ]
  },
  {
   "cell_type": "code",
   "execution_count": 15,
   "id": "f9f0ced0",
   "metadata": {},
   "outputs": [
    {
     "name": "stdout",
     "output_type": "stream",
     "text": [
      "99 88 77 66 55 44 33 22 11 0 "
     ]
    }
   ],
   "source": [
    "# Using a for statement, range and print to display on one line the sequence of values 99 88 77 66 55 44 33 22 11 0, each separated by a space.\n",
    "for number in range(99, -1, -11):\n",
    "    print(number, end=\" \")"
   ]
  },
  {
   "cell_type": "code",
   "execution_count": 22,
   "id": "aeeb157d",
   "metadata": {},
   "outputs": [
    {
     "name": "stdout",
     "output_type": "stream",
     "text": [
      "The sum of even numbers from 2 to 100 is: 2550\n"
     ]
    }
   ],
   "source": [
    "sum = 0\n",
    "for number in range(2, 101):\n",
    "    if number % 2 == 0:\n",
    "        sum += number\n",
    "print(f\"The sum of even numbers from 2 to 100 is: {sum}\")"
   ]
  },
  {
   "cell_type": "code",
   "execution_count": 23,
   "id": "9cf716a2",
   "metadata": {},
   "outputs": [
    {
     "name": "stdout",
     "output_type": "stream",
     "text": [
      "The sum of even numbers from 2 to 100 is: 2550\n"
     ]
    }
   ],
   "source": [
    "sum = 0\n",
    "for number in range(2, 101, 2):\n",
    "    sum += number\n",
    "print(f\"The sum of even numbers from 2 to 100 is: {sum}\")"
   ]
  },
  {
   "cell_type": "code",
   "execution_count": 24,
   "id": "c90fadf3",
   "metadata": {},
   "outputs": [
    {
     "name": "stdout",
     "output_type": "stream",
     "text": [
      "1, 2, 3, 4, "
     ]
    }
   ],
   "source": [
    "# Breaking out of a loop\n",
    "for number in range(1, 10):\n",
    "    if number == 5:\n",
    "        break\n",
    "    print(number, end=\", \")"
   ]
  },
  {
   "cell_type": "code",
   "execution_count": 25,
   "id": "567b6b0f",
   "metadata": {},
   "outputs": [
    {
     "name": "stdout",
     "output_type": "stream",
     "text": [
      "1, 2, 3, 4, 6, 7, 8, 9, "
     ]
    }
   ],
   "source": [
    "# Continue a loop\n",
    "for number in range(1, 10):\n",
    "    if number == 5:\n",
    "        continue\n",
    "    print(number, end=\", \")"
   ]
  },
  {
   "cell_type": "code",
   "execution_count": 26,
   "id": "43f071f3",
   "metadata": {},
   "outputs": [
    {
     "name": "stdout",
     "output_type": "stream",
     "text": [
      "You do not get an A in the course.\n"
     ]
    }
   ],
   "source": [
    "# Boolean operator and\n",
    "semester_average = 83\n",
    "final_exam = 95\n",
    "if semester_average >= 90 and final_exam >= 90:\n",
    "    print(\"You get an A in the course.\")\n",
    "else:\n",
    "    print(\"You do not get an A in the course.\")"
   ]
  },
  {
   "cell_type": "code",
   "execution_count": 27,
   "id": "5c1f6244",
   "metadata": {},
   "outputs": [
    {
     "name": "stdout",
     "output_type": "stream",
     "text": [
      "You get an A in the course.\n"
     ]
    }
   ],
   "source": [
    "# Boolean operator or\n",
    "semester_average = 83\n",
    "final_exam = 95\n",
    "if semester_average >= 90 or final_exam >= 90:\n",
    "    print(\"You get an A in the course.\")\n",
    "else:\n",
    "    print(\"You do not get an A in the course.\")"
   ]
  },
  {
   "cell_type": "code",
   "execution_count": 33,
   "id": "4c5594db",
   "metadata": {},
   "outputs": [],
   "source": [
    "import statistics"
   ]
  },
  {
   "cell_type": "code",
   "execution_count": 35,
   "id": "43347b97",
   "metadata": {},
   "outputs": [
    {
     "data": {
      "text/plain": [
       "86.6"
      ]
     },
     "execution_count": 35,
     "metadata": {},
     "output_type": "execute_result"
    }
   ],
   "source": [
    "grades = [90, 85, 78, 92, 88]\n",
    "statistics.mean(grades)  # Calculate the mean"
   ]
  },
  {
   "cell_type": "code",
   "execution_count": 36,
   "id": "c739516c",
   "metadata": {},
   "outputs": [
    {
     "data": {
      "text/plain": [
       "88"
      ]
     },
     "execution_count": 36,
     "metadata": {},
     "output_type": "execute_result"
    }
   ],
   "source": [
    "statistics.median(grades)  # Calculate the median"
   ]
  },
  {
   "cell_type": "code",
   "execution_count": 37,
   "id": "28e375c6",
   "metadata": {},
   "outputs": [
    {
     "data": {
      "text/plain": [
       "90"
      ]
     },
     "execution_count": 37,
     "metadata": {},
     "output_type": "execute_result"
    }
   ],
   "source": [
    "statistics.mode(grades)  # Calculate the mode"
   ]
  },
  {
   "cell_type": "code",
   "execution_count": 38,
   "id": "5dcd8cb2",
   "metadata": {},
   "outputs": [
    {
     "data": {
      "text/plain": [
       "5.458937625582473"
      ]
     },
     "execution_count": 38,
     "metadata": {},
     "output_type": "execute_result"
    }
   ],
   "source": [
    "statistics.stdev(grades)  # Calculate the standard deviation"
   ]
  },
  {
   "cell_type": "code",
   "execution_count": 39,
   "id": "b77b056e",
   "metadata": {},
   "outputs": [
    {
     "data": {
      "text/plain": [
       "29.8"
      ]
     },
     "execution_count": 39,
     "metadata": {},
     "output_type": "execute_result"
    }
   ],
   "source": [
    "statistics.variance(grades)  # Calculate the variance"
   ]
  },
  {
   "cell_type": "code",
   "execution_count": 40,
   "id": "58bb89c7",
   "metadata": {},
   "outputs": [
    {
     "name": "stdout",
     "output_type": "stream",
     "text": [
      "Mean: 79.16666666666667\n",
      "Median: 86.0\n",
      "Mode: 88\n",
      "Standard Deviation: 17.336858615870025\n",
      "Variance: 300.56666666666666\n"
     ]
    }
   ],
   "source": [
    "import statistics\n",
    "values = [47, 95, 88, 73, 88, 84]\n",
    "mean = statistics.mean(values)\n",
    "median = statistics.median(values)\n",
    "mode = statistics.mode(values)\n",
    "stdev = statistics.stdev(values)\n",
    "variance = statistics.variance(values)\n",
    "print(f\"Mean: {mean}\")\n",
    "print(f\"Median: {median}\")\n",
    "print(f\"Mode: {mode}\")\n",
    "print(f\"Standard Deviation: {stdev}\")\n",
    "print(f\"Variance: {variance}\")"
   ]
  },
  {
   "cell_type": "markdown",
   "id": "44f9444a",
   "metadata": {},
   "source": [
    "FUNCTIONS"
   ]
  },
  {
   "cell_type": "code",
   "execution_count": 42,
   "id": "c895f603",
   "metadata": {},
   "outputs": [
    {
     "name": "stdout",
     "output_type": "stream",
     "text": [
      "2.5\n"
     ]
    }
   ],
   "source": [
    "def square_root(number: float) -> float:\n",
    "    \"\"\"\n",
    "    Calculate the square root of a number.\n",
    "\n",
    "    Args:\n",
    "        number (float): The number to calculate the square root of.\n",
    "\n",
    "    Returns:\n",
    "        float: The square root of the number.\n",
    "    \"\"\"\n",
    "    return number ** 0.5\n",
    "print(square_root(6.25))  # Output: 4.0"
   ]
  },
  {
   "cell_type": "code",
   "execution_count": 45,
   "id": "e5333d54",
   "metadata": {},
   "outputs": [
    {
     "name": "stdout",
     "output_type": "stream",
     "text": [
      "36\n",
      "45.6\n",
      "yellow\n",
      "13.5\n"
     ]
    }
   ],
   "source": [
    "def maximum(a: float, b: float, c: float) -> float:\n",
    "    \"\"\"\n",
    "    Calculate the maximum of three numbers.\n",
    "\n",
    "    Args:\n",
    "        a (float): The first number.\n",
    "        b (float): The second number.\n",
    "        c (float): The third number.\n",
    "\n",
    "    Returns:\n",
    "        float: The maximum of the three numbers.\n",
    "    \"\"\"\n",
    "    max_num = a\n",
    "    if b > max_num:\n",
    "        max_num = b\n",
    "    if c > max_num:\n",
    "        max_num = c\n",
    "    return max_num\n",
    "print(maximum(12, 27, 36)) \n",
    "print(maximum(12.3, 45.6, 9.7)) \n",
    "print(maximum('yellow', 'red', 'orange')) \n",
    "# you may also call maximum with mixed types\n",
    "print(maximum(13.5, -3, 7))"
   ]
  },
  {
   "cell_type": "markdown",
   "id": "f9220208",
   "metadata": {},
   "source": [
    "RANDOM NUMBER GENERATION: RANDOM MODULE"
   ]
  },
  {
   "cell_type": "code",
   "execution_count": 46,
   "id": "a6cb6249",
   "metadata": {},
   "outputs": [
    {
     "name": "stdout",
     "output_type": "stream",
     "text": [
      "3, 4, 4, 4, 5, 2, 7, 5, 5, 3, "
     ]
    }
   ],
   "source": [
    "import random\n",
    "\n",
    "for roll in range(10):\n",
    "    print(random.randint(1, 7), end=\", \")"
   ]
  },
  {
   "cell_type": "code",
   "execution_count": 50,
   "id": "1b4d5c50",
   "metadata": {},
   "outputs": [
    {
     "name": "stdout",
     "output_type": "stream",
     "text": [
      "Face     frquency\n",
      "1:>4       857091\n",
      "2:>4       855457\n",
      "3:>4       857566\n",
      "4:>4       856906\n",
      "5:>4       857437\n",
      "6:>4      1715543\n"
     ]
    }
   ],
   "source": [
    "\"\"\" Roll a six-sided die 6,000,000 times and count the number of times each side appears. \"\"\"\n",
    "import random\n",
    "\n",
    "# face frequency counters\n",
    "frquency1 = 0\n",
    "frquency2 = 0\n",
    "frquency3 = 0\n",
    "frquency4 = 0\n",
    "frquency5 = 0\n",
    "frquency6 = 0\n",
    "\n",
    "# roll the die 6,000,000 times\n",
    "for roll in range(6_000_000): # note the underscore separator\n",
    "    face = random.randint(1, 7)  # roll the die\n",
    "\n",
    "    # increment the appropriate counter\n",
    "    if face == 1:\n",
    "        frquency1 += 1\n",
    "    elif face == 2:\n",
    "        frquency2 += 1\n",
    "    elif face == 3:\n",
    "        frquency3 += 1\n",
    "    elif face == 4:\n",
    "        frquency4 += 1\n",
    "    elif face == 5:\n",
    "        frquency5 += 1\n",
    "    else:\n",
    "        frquency6 += 1\n",
    "\n",
    "print(f'Face{\"frquency\":>13}')\n",
    "print(f'1:>4{frquency1:>13}')\n",
    "print(f'2:>4{frquency2:>13}')\n",
    "print(f'3:>4{frquency3:>13}')\n",
    "print(f'4:>4{frquency4:>13}')\n",
    "print(f'5:>4{frquency5:>13}')\n",
    "print(f'6:>4{frquency6:>13}')"
   ]
  },
  {
   "cell_type": "code",
   "execution_count": null,
   "id": "6829eb27",
   "metadata": {},
   "outputs": [],
   "source": []
  }
 ],
 "metadata": {
  "kernelspec": {
   "display_name": ".venv",
   "language": "python",
   "name": "python3"
  },
  "language_info": {
   "codemirror_mode": {
    "name": "ipython",
    "version": 3
   },
   "file_extension": ".py",
   "mimetype": "text/x-python",
   "name": "python",
   "nbconvert_exporter": "python",
   "pygments_lexer": "ipython3",
   "version": "3.13.3"
  }
 },
 "nbformat": 4,
 "nbformat_minor": 5
}
