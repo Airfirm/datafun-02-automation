{
 "cells": [
  {
   "cell_type": "code",
   "execution_count": 1,
   "id": "35b16916",
   "metadata": {},
   "outputs": [
    {
     "name": "stdout",
     "output_type": "stream",
     "text": [
      "Testing my jupyter notebook script\n"
     ]
    }
   ],
   "source": [
    "print('Testing my jupyter notebook script')"
   ]
  },
  {
   "cell_type": "code",
   "execution_count": 8,
   "id": "03ec93ab",
   "metadata": {},
   "outputs": [],
   "source": [
    "def show_greeting(user_name : str ) -> None:\n",
    "      print(user_name)"
   ]
  },
  {
   "cell_type": "code",
   "execution_count": 10,
   "id": "22a88b3e",
   "metadata": {},
   "outputs": [],
   "source": [
    "def add(a: int, b: int) -> int:\n",
    "    return a + b"
   ]
  },
  {
   "cell_type": "code",
   "execution_count": null,
   "id": "23f8c754",
   "metadata": {},
   "outputs": [],
   "source": [
    "from pathlib import Path\n",
    "\n",
    "def get_project_directory(folder_name: str) -> Path:\n",
    "    \"\"\"\n",
    "    Creates a new directory with the given folder name and returns the Path object.\n",
    "\n",
    "    Args:\n",
    "        folder_name (str): The name of the folder to create.\n",
    "\n",
    "    Returns:\n",
    "        Path: The Path object representing the created directory.\n",
    "    \"\"\"\n",
    "    project_path = Path(folder_name)\n",
    "    project_path.mkdir(parents=True, exist_ok=True)\n",
    "    return project_path"
   ]
  },
  {
   "cell_type": "code",
   "execution_count": 11,
   "id": "0006d84b",
   "metadata": {},
   "outputs": [
    {
     "name": "stdout",
     "output_type": "stream",
     "text": [
      "Sales are high, let's allocate more resources!\n"
     ]
    }
   ],
   "source": [
    "sales = 15000\n",
    "\n",
    "if sales > 10000:\n",
    "    print(\"Sales are high, let's allocate more resources!\")"
   ]
  },
  {
   "cell_type": "code",
   "execution_count": 6,
   "id": "1331ad40",
   "metadata": {},
   "outputs": [
    {
     "name": "stdout",
     "output_type": "stream",
     "text": [
      "Traffic is moderate, let's monitor closely.\n"
     ]
    }
   ],
   "source": [
    "traffic = 8000\n",
    "\n",
    "if traffic > 10000:\n",
    "    print(\"Traffic is high, let's prepare for increased load!\")\n",
    "elif traffic > 5000:\n",
    "    print(\"Traffic is moderate, let's monitor closely.\")"
   ]
  },
  {
   "cell_type": "code",
   "execution_count": 5,
   "id": "efe8e4fc",
   "metadata": {},
   "outputs": [
    {
     "name": "stdout",
     "output_type": "stream",
     "text": [
      "Traffic is low, consider running promotions.\n"
     ]
    }
   ],
   "source": [
    "traffic = 3000\n",
    "\n",
    "if traffic > 10000:\n",
    "    print(\"Traffic is high, let's prepare for increased load!\")\n",
    "elif traffic > 5000:\n",
    "    print(\"Traffic is moderate, let's monitor closely.\")\n",
    "else:\n",
    "    print(\"Traffic is low, consider running promotions.\")"
   ]
  },
  {
   "cell_type": "code",
   "execution_count": 12,
   "id": "d4fbbe39",
   "metadata": {},
   "outputs": [
    {
     "name": "stdout",
     "output_type": "stream",
     "text": [
      "Monthly sales: 12000\n",
      "Monthly sales: 15000\n",
      "Monthly sales: 18000\n",
      "Monthly sales: 13000\n",
      "Monthly sales: 17000\n"
     ]
    }
   ],
   "source": [
    "sales: list = [12000, 15000, 18000, 13000, 17000]\n",
    "\n",
    "for sale in sales:\n",
    "    print(f\"Monthly sales: {sale}\")"
   ]
  },
  {
   "cell_type": "code",
   "execution_count": 13,
   "id": "a36f397d",
   "metadata": {},
   "outputs": [
    {
     "name": "stdout",
     "output_type": "stream",
     "text": [
      "Monthly sales: 12000\n",
      "Monthly sales: 15000\n",
      "Monthly sales: 18000\n",
      "Monthly sales: 13000\n",
      "Monthly sales: 17000\n"
     ]
    }
   ],
   "source": [
    "sales: list = [12000, 15000, 18000, 13000, 17000]\n",
    "\n",
    "for s in sales:\n",
    "    print(f\"Monthly sales: {s}\")"
   ]
  },
  {
   "cell_type": "code",
   "execution_count": null,
   "id": "a953d032",
   "metadata": {},
   "outputs": [],
   "source": [
    "\n",
    "\n",
    " \n",
    "\n",
    "# Three Implementations\n",
    " \n",
    "\n",
    "from pathlib import Path\n",
    "\n",
    " \n",
    "\n",
    "def create_annual_data_directories(directory_name: str, start_year: int, end_year: int) -> None:\n",
    "\n",
    "   # Option 1 - using for in\n",
    "\n",
    "\n",
    "    years = list(range(start_year, end_year + 1))\n",
    "    \n",
    "    for year in years:\n",
    "        folder_name = f\"{directory_name}/{year}\"\n",
    "        Path(folder_name).mkdir(parents=True, exist_ok=True)\n",
    "        print(f\"Created directory: {folder_name}\")\n",
    "\n",
    "   \n",
    "\n",
    "    # Option 2 - using for in range\n",
    "\n",
    "    for year in range(start_year, end_year + 1):\n",
    "        folder_name = f\"{directory_name}/{year}\"\n",
    "        Path(folder_name).mkdir(parents=True, exist_ok=True)\n",
    "        print(f\"Created directory: {folder_name}\")\n",
    "\n",
    " \n",
    "\n",
    "    # Option 3 - using while\n",
    "\n",
    "    year = start_year\n",
    "    while year <= end_year:\n",
    "        folder_name = f\"{directory_name}/{year}\"\n",
    "        Path(folder_name).mkdir(parents=True, exist_ok=True)\n",
    "        print(f\"Created directory: {folder_name}\")\n",
    "        year += 1\n",
    "\n",
    " \n",
    "\n",
    "# Example usage:\n",
    "create_annual_data_directories(\"data\", 2021, 2024)"
   ]
  },
  {
   "cell_type": "code",
   "execution_count": 14,
   "id": "d60e7ad7",
   "metadata": {},
   "outputs": [
    {
     "name": "stdout",
     "output_type": "stream",
     "text": [
      "Folder 'folder_1' created.\n",
      "Folder 'folder_2' created.\n",
      "Folder 'folder_3' created.\n",
      "Folder 'folder_4' created.\n"
     ]
    }
   ],
   "source": [
    "from pathlib import Path\n",
    "\n",
    "for i in range(1, 5):\n",
    "    folder_name = f\"folder_{i}\"\n",
    "    Path(folder_name).mkdir(exist_ok=True)\n",
    "    print(f\"Folder '{folder_name}' created.\")"
   ]
  },
  {
   "cell_type": "code",
   "execution_count": 15,
   "id": "20eea81f",
   "metadata": {},
   "outputs": [
    {
     "name": "stdout",
     "output_type": "stream",
     "text": [
      "Found a sale above the threshold: 3000\n"
     ]
    }
   ],
   "source": [
    "sales = [200, 1500, 3000, 100, 5000]\n",
    "\n",
    "for sale in sales:\n",
    "    if sale > 2500:\n",
    "        print(f\"Found a sale above the threshold: {sale}\")\n",
    "        break  # Exit the loop as soon as we find the first sale above 2500"
   ]
  },
  {
   "cell_type": "code",
   "execution_count": 16,
   "id": "a7671379",
   "metadata": {},
   "outputs": [
    {
     "name": "stdout",
     "output_type": "stream",
     "text": [
      "Found a sale above the threshold: 5000\n"
     ]
    }
   ],
   "source": [
    "sales = [200, 1500, 3000, 100, 5000]\n",
    "\n",
    "for sale in sales:\n",
    "    if sale > 4000:\n",
    "        print(f\"Found a sale above the threshold: {sale}\")\n",
    "        break"
   ]
  },
  {
   "cell_type": "code",
   "execution_count": 17,
   "id": "144d86e3",
   "metadata": {},
   "outputs": [
    {
     "name": "stdout",
     "output_type": "stream",
     "text": [
      "Processing significant sale: 1500\n",
      "Processing significant sale: 3000\n",
      "Processing significant sale: 5000\n"
     ]
    }
   ],
   "source": [
    "sales = [200, 1500, 3000, 100, 5000]\n",
    "\n",
    "for sale in sales:\n",
    "    if sale < 1000:\n",
    "        continue  # Skip sales that are less than 1000\n",
    "    print(f\"Processing significant sale: {sale}\")"
   ]
  },
  {
   "cell_type": "code",
   "execution_count": 18,
   "id": "8b558f2d",
   "metadata": {},
   "outputs": [
    {
     "name": "stdout",
     "output_type": "stream",
     "text": [
      "Processing significant sale: 1500\n",
      "Processing significant sale: 3000\n",
      "Processing significant sale: 5000\n"
     ]
    }
   ],
   "source": [
    "sales = [200, 1500, 3000, 100, 5000]\n",
    "\n",
    "for sale in sales:\n",
    "    if sale < 1000:\n",
    "        continue\n",
    "    print(f\"Processing significant sale: {sale}\")"
   ]
  },
  {
   "cell_type": "code",
   "execution_count": 19,
   "id": "71075578",
   "metadata": {},
   "outputs": [
    {
     "name": "stdout",
     "output_type": "stream",
     "text": [
      "Generating report for New York in 2018\n",
      "Generating report for New York in 2019\n",
      "Generating report for New York in 2020\n",
      "Generating report for New York in 2021\n",
      "Generating report for Los Angeles in 2018\n",
      "Generating report for Los Angeles in 2019\n",
      "Generating report for Los Angeles in 2020\n",
      "Generating report for Los Angeles in 2021\n",
      "Generating report for Chicago in 2018\n",
      "Generating report for Chicago in 2019\n",
      "Generating report for Chicago in 2020\n",
      "Generating report for Chicago in 2021\n"
     ]
    }
   ],
   "source": [
    "cities = ['New York', 'Los Angeles', 'Chicago']\n",
    "years = [2018, 2019, 2020, 2021]\n",
    "\n",
    "for city in cities:\n",
    "    for year in years:\n",
    "        print(f\"Generating report for {city} in {year}\")"
   ]
  },
  {
   "cell_type": "code",
   "execution_count": null,
   "id": "c588c8b5",
   "metadata": {},
   "outputs": [],
   "source": [
    "import os\n",
    "import time\n",
    "\n",
    "folder_to_monitor = \"live_data\"\n",
    "\n",
    "while True:\n",
    "    if 'sales_data.csv' in os.listdir(folder_to_monitor):\n",
    "        print(\"File arrived. Starting analysis.\")\n",
    "        break  # Stop the loop once the file is found\n",
    "    else:\n",
    "        print(\"File not yet arrived. Checking again in 10 seconds.\")\n",
    "        time.sleep(10)  # Wait 10 seconds before checking again"
   ]
  },
  {
   "cell_type": "code",
   "execution_count": null,
   "id": "410dcbb0",
   "metadata": {},
   "outputs": [],
   "source": [
    "\"\"\" Define Three Parameters\n",
    "We have options for how we define and default our inputs. Python allows us to simply provide the parameter name, separated by commas - or we would be better and use type hints. We can also provide defaults. \n",
    "\"\"\"\n",
    "# Option 1 - Simple - Three Parameters\n",
    "\n",
    "def create_annual_data_directories(directory_name, start_year, end_year):\n",
    "\n",
    "# Option 2 - Add Type Hints \n",
    "\n",
    "def create_annual_data_directories(directory_name:str, start_year:int, end_year:int) -> None:\n",
    "\n",
    "# Option 3 - Add Default Values \n",
    "\n",
    "def create_annual_data_directories(directory_name='data', start_year= 2000, end_year=2024) -> None: \n",
    "\n",
    "\"\"\" We're providing values not type hints, so be sure to use equals (=) to set the values, not a colon. \n",
    "Option 4 - Add Type Hints and Default Values \n",
    "We can combine type hints and defaults as needed. We can default none, some, or all of our parameters. \n",
    "\"\"\"\n",
    "\n",
    "def create_annual_data_directories(directory_name: str = 'data', start_year: int = 2000, end_year: int = 2024) -> None: "
   ]
  },
  {
   "cell_type": "code",
   "execution_count": null,
   "id": "13d92bab",
   "metadata": {},
   "outputs": [],
   "source": [
    "import pathlib\n",
    "\n",
    "project_root = pathlib.Path('my_project')\n",
    "data_dir = project_root.joinpath('data')\n",
    "reports_dir = project_root.joinpath('reports')\n",
    "logs_dir = project_root.joinpath('logs')\n",
    "\n",
    "data_dir.mkdir(parents=True, exist_ok=True)\n",
    "reports_dir.mkdir(parents=True, exist_ok=True)\n",
    "logs_dir.mkdir(parents=True, exist_ok=True)"
   ]
  },
  {
   "cell_type": "code",
   "execution_count": null,
   "id": "ad40ea0c",
   "metadata": {},
   "outputs": [],
   "source": [
    "from datetime import datetime  # Importing just the datetime class\n",
    "from pathlib import Path  # Importing just the Path class\n",
    "\n",
    "# Get today's date as a string in the format 'YYYY-MM-DD'\n",
    "today = datetime.now().strftime('%Y-%m-%d')\n",
    "\n",
    "# Use joinpath to create a path to the folder named with today's date\n",
    "daily_folder = Path('data').joinpath(today)\n",
    "\n",
    "# Create the folder if it doesn't already exist\n",
    "daily_folder.mkdir(parents=True, exist_ok=True)"
   ]
  },
  {
   "cell_type": "code",
   "execution_count": 21,
   "id": "826c8f25",
   "metadata": {},
   "outputs": [
    {
     "name": "stdout",
     "output_type": "stream",
     "text": [
      "Starting task...\n",
      "Task completed after a 10-second delay.\n"
     ]
    }
   ],
   "source": [
    "import time\n",
    "\n",
    "print(\"Starting task...\")\n",
    "time.sleep(10)  # Pauses the program for 10 seconds\n",
    "print(\"Task completed after a 10-second delay.\")"
   ]
  },
  {
   "cell_type": "code",
   "execution_count": null,
   "id": "f446b597",
   "metadata": {},
   "outputs": [],
   "source": [
    "import seaborn as sns\n",
    "\n",
    "import pandas as pd\n",
    "\n",
    "import scipy as sp\n",
    "\n",
    "import statsmodels as sm\n",
    "\n",
    "import numpy as np\n",
    "\n",
    "import matplotlib.pyplot as plt\n",
    "\n",
    "import sklearn as sk\n",
    "\n",
    "import tensorflow as tf"
   ]
  },
  {
   "cell_type": "code",
   "execution_count": null,
   "id": "2f70d9c9",
   "metadata": {},
   "outputs": [],
   "source": []
  }
 ],
 "metadata": {
  "kernelspec": {
   "display_name": ".venv",
   "language": "python",
   "name": "python3"
  },
  "language_info": {
   "codemirror_mode": {
    "name": "ipython",
    "version": 3
   },
   "file_extension": ".py",
   "mimetype": "text/x-python",
   "name": "python",
   "nbconvert_exporter": "python",
   "pygments_lexer": "ipython3",
   "version": "3.13.3"
  }
 },
 "nbformat": 4,
 "nbformat_minor": 5
}
